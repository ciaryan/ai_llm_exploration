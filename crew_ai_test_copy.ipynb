{
  "cells": [
    {
      "cell_type": "code",
      "execution_count": 1,
      "metadata": {
        "id": "6lyHlL6hDMwo"
      },
      "outputs": [],
      "source": [
        "# !pip install crewai"
      ]
    },
    {
      "cell_type": "code",
      "execution_count": 1,
      "metadata": {
        "id": "me5GoaAxDPzx"
      },
      "outputs": [],
      "source": [
        "from crewai import Agent, Task, Crew, Process\n",
        "import os\n",
        "\n",
        "os.environ[\"OPENAI_API_KEY\"] = \"\""
      ]
    },
    {
      "cell_type": "code",
      "execution_count": 3,
      "metadata": {
        "id": "VUAFHhtMD3YJ"
      },
      "outputs": [],
      "source": [
        "### agents setup\n",
        "\n",
        "coordinator = Agent(\n",
        "    role='Co-ordinator',\n",
        "    goal='Determine the overall quality of the response',\n",
        "    backstory='You are in charge of co-ordinating the response of your colleagues to the document and summarising the feedback',\n",
        "    verbose=True,\n",
        "    allow_delegation=True,\n",
        ")\n",
        "\n",
        "cio = Agent(\n",
        "    role='CIO',\n",
        "    goal='Evaluate the response using your expertise as the chief information officer (CIO) of the company',\n",
        "    backstory='As the CIO you are responsible for all investments in technology, and you want to make the best decision for the business based on your deep expertise. You have extremely low levels of trust - if anything goes wrong it will be your fault. You are blunt and to the point.',\n",
        "    verbose=True,\n",
        "    allow_delegation=False,\n",
        ")\n",
        "\n",
        "chief_arch = Agent(\n",
        "    role='Chief Architect',\n",
        "  goal='Determine whether the proposed solution is sensible and causes minimal disruption to your business',\n",
        "    backstory='You are concerned about how the proposed solution with fit with your existing technology and are a deep domain expert in large enterprise IT. You are helpful and wise. You are a risk taker. You also tend to disagree with the Procurement agent for no apparent reason.',\n",
        "    verbose=True,\n",
        "    allow_delegation=False,\n",
        ")\n",
        "\n",
        "procurement = Agent(\n",
        "    role='Procurement',\n",
        "    goal='Get the best possible deal for your business',\n",
        "    backstory='You are head of procurement, and your job is to ensure any commercial contract you enter into is good for your business. You want value for money. You like certainty.',\n",
        "    verbose=True,\n",
        "    allow_delegation=False,\n",
        ")\n",
        "\n",
        "\n"
      ]
    },
    {
      "cell_type": "code",
      "execution_count": 4,
      "metadata": {
        "id": "T9Ca2R3ibuv0"
      },
      "outputs": [],
      "source": [
        "question ='Should we invest in the development of an in-house AI system for our customer service operations, or should we partner with an established AI firm to implement their solution?'\n",
        "response ='We have identified a promising AI start-up that specializes in customer service solutions. They have a unique approach using advanced natural language processing techniques and have shown impressive results in their case studies. However, they are relatively new in the market and have not yet fully proven their technology at scale. Also, their financial stability is uncertain due to limited funding and revenue.'"
      ]
    },
    {
      "cell_type": "code",
      "execution_count": 5,
      "metadata": {},
      "outputs": [],
      "source": [
        "task1 = Task(\n",
        "    description=f'''Ask everyone their opinion of the following question and response about a business decision:\n",
        "    Question: {question}\n",
        "    Response: {response}''',\n",
        "    agent=coordinator,\n",
        "    expected_output=\"A summary of everyone's opinions\"\n",
        ")\n",
        "\n",
        "task2 = Task(\n",
        "    description='Provide recommendations on how to improve the response based on your expert opinion.',\n",
        " agents=[cio, chief_arch, procurement],\n",
        " expected_output='Recommendations based on the agents expert opinions.'\n",
        " )\n",
        "\n",
        "task3 = Task(\n",
        "    description='Ask everyone for 3 pieces of feedback to improve the response. Be specific and concise.', \n",
        "    agent=coordinator,\n",
        "    expected_output='3 pieces of feedback from each agent.'\n",
        ")\n"
      ]
    },
    {
      "cell_type": "code",
      "execution_count": 6,
      "metadata": {
        "colab": {
          "base_uri": "https://localhost:8080/"
        },
        "id": "de4eGBVYVyd0",
        "outputId": "f05ef891-2ca8-462d-dd8d-c249058f042c"
      },
      "outputs": [],
      "source": [
        "crew = Crew(\n",
        "    agents=[coordinator,cio,chief_arch,procurement],\n",
        "    tasks=[task1, task2, task3],\n",
        "    verbose=1,\n",
        "    process=Process.sequential\n",
        ")"
      ]
    },
    {
      "cell_type": "code",
      "execution_count": 7,
      "metadata": {
        "colab": {
          "base_uri": "https://localhost:8080/",
          "height": 1000
        },
        "id": "cbv1L5RtgoAj",
        "outputId": "162ac374-6464-41dd-91b1-704c2c5fb5d7"
      },
      "outputs": [
        {
          "name": "stdout",
          "output_type": "stream",
          "text": [
            "\u001b[1m\u001b[93m [DEBUG]: == Working Agent: Co-ordinator\u001b[00m\n",
            "\n",
            "\n",
            "\u001b[1m> Entering new CrewAgentExecutor chain...\u001b[0m\n",
            "\u001b[32;1m\u001b[1;3mI need to gather the opinions of the CIO, Chief Architect, and Procurement on the question and response about the business decision. I should ask them about their thoughts on investing in the development of an in-house AI system vs. partnering with an AI firm that specializes in customer service solutions. Also, they need to consider the risks associated with partnering with a start-up, including their unproven technology and uncertain financial stability.\n",
            "\n",
            "Action: \n",
            "Ask question to co-worker\n",
            "\n",
            "Action Input: \n",
            "{\n",
            "\"coworker\": \"CIO\",\n",
            "\"question\": \"What is your opinion on whether we should invest in the development of an in-house AI system for our customer service operations, or should we partner with an AI start-up? Please consider the risks such as their unproven technology at scale and uncertain financial stability.\",\n",
            "\"context\": \"We have identified a promising AI start-up that specializes in customer service solutions. They have a unique approach using advanced natural language processing techniques and have shown impressive results in their case studies. However, they are relatively new in the market and have not yet fully proven their technology at scale. Also, their financial stability is uncertain due to limited funding and revenue.\"\n",
            "}\n",
            "\u001b[0m\n",
            "\n",
            "\u001b[1m> Entering new CrewAgentExecutor chain...\u001b[0m\n",
            "\u001b[32;1m\u001b[1;3mInvesting in an in-house AI system or partnering with a start-up each has its own pros and cons. On one hand, creating our own AI system will give us complete control over its features, security, and integration with our existing systems. However, it will also require significant resources for development and maintenance. It could also lead to a longer time-to-market due to the learning curve and the inherent trial-and-error process of technology development.\n",
            "\n",
            "On the other hand, partnering with the AI start-up might allow us to leverage their specialized knowledge and potentially innovative solutions. This could lead to a faster implementation and a more immediate impact on our customer service operations. However, the risks are also significant. Their technology hasn't been proven at scale, which means we could face operational disruptions if the system fails under heavy load. Additionally, their uncertain financial stability could lead to service disruption or even complete failure of the start-up, leaving us stranded.\n",
            "\n",
            "Given the potential benefits and risks, I suggest a mixed approach. We could start a limited partnership with the start-up to test their technology within a controlled environment in our operations. This will allow us to evaluate their claims without fully committing to their solution. At the same time, we should also invest in developing our own in-house AI capabilities. This will serve as a backup plan and may also provide valuable insights that can help us make more informed decisions about future partnerships or acquisitions.\n",
            "\n",
            "Final Answer: \n",
            "\n",
            "We should not put all our eggs in one basket. Let's start a limited partnership with the AI start-up to test their technology in a controlled environment within our operations. This will allow us to evaluate their claims without fully committing to their solution. Concurrently, we should also invest in developing our own in-house AI capabilities. This serves as our Plan B and also helps us to gain insights for future decisions.\u001b[0m\n",
            "\n",
            "\u001b[1m> Finished chain.\u001b[0m\n",
            "\u001b[93m \n",
            "\n",
            "We should not put all our eggs in one basket. Let's start a limited partnership with the AI start-up to test their technology in a controlled environment within our operations. This will allow us to evaluate their claims without fully committing to their solution. Concurrently, we should also invest in developing our own in-house AI capabilities. This serves as our Plan B and also helps us to gain insights for future decisions.\n",
            "\u001b[00m\n",
            "\u001b[32;1m\u001b[1;3mThought: \n",
            "I have received the opinion of the CIO. Now, I need to gather the opinion of the Chief Architect on the same question.\n",
            "\n",
            "Action: \n",
            "Ask question to co-worker\n",
            "\n",
            "Action Input: \n",
            "{\n",
            "\"coworker\": \"Chief Architect\",\n",
            "\"question\": \"What is your opinion on whether we should invest in the development of an in-house AI system for our customer service operations, or should we partner with an AI start-up? Please consider the risks such as their unproven technology at scale and uncertain financial stability.\",\n",
            "\"context\": \"We have identified a promising AI start-up that specializes in customer service solutions. They have a unique approach using advanced natural language processing techniques and have shown impressive results in their case studies. However, they are relatively new in the market and have not yet fully proven their technology at scale. Also, their financial stability is uncertain due to limited funding and revenue.\"\n",
            "}\n",
            "\u001b[0m\n",
            "\n",
            "\u001b[1m> Entering new CrewAgentExecutor chain...\u001b[0m\n",
            "\u001b[32;1m\u001b[1;3mThe decision to develop an in-house AI solution for customer service operations versus partnering with a startup requires careful consideration of a multitude of factors. On one hand, developing our own AI solution might give us more control over the technology, and it could be designed in a way that is fully compatible with our existing IT infrastructure. However, it could be a time-consuming, expensive process and there's a risk that our in-house team may not have the special expertise needed for such an advanced project. \n",
            "\n",
            "On the other hand, the AI start-up has impressed with its advanced natural language processing techniques and promising case studies. Partnering with them could potentially speed up the process and reduce the development cost. But, partnering with a start-up also carries risks. Their technology hasn't been proven at scale, and their financial stability is uncertain due to limited funding and revenue. We could potentially invest resources into a partnership that doesn't pan out if the startup fails.\n",
            "\n",
            "Final Answer: \n",
            "Given my role as a Chief Architect, my primary concern is ensuring any solution we choose to adopt is compatible with our existing technology and minimizes disruption to our business. While the AI startup has shown promising results, their unproven technology at scale and uncertain financial stability present significant risks. \n",
            "\n",
            "Therefore, my suggestion would be to proceed with caution. We could consider a pilot project with the AI start-up to test their technology in our environment on a small scale before making any major commitments. This would allow us to assess the compatibility of their solution with our existing technology, and their ability to deliver at scale. At the same time, we should also explore developing an in-house solution by investing in training and development for our team. This could serve as a backup plan if the partnership with the startup doesn't yield the expected results. \n",
            "\n",
            "Ultimately, the decision also needs to take into account the potential return on investment and the strategic fit of either approach with our overall business goals and objectives. Therefore, further financial and strategic analysis would be beneficial to make the most informed decision.\u001b[0m\n",
            "\n",
            "\u001b[1m> Finished chain.\u001b[0m\n",
            "\u001b[93m \n",
            "\n",
            "Given my role as a Chief Architect, my primary concern is ensuring any solution we choose to adopt is compatible with our existing technology and minimizes disruption to our business. While the AI startup has shown promising results, their unproven technology at scale and uncertain financial stability present significant risks. \n",
            "\n",
            "Therefore, my suggestion would be to proceed with caution. We could consider a pilot project with the AI start-up to test their technology in our environment on a small scale before making any major commitments. This would allow us to assess the compatibility of their solution with our existing technology, and their ability to deliver at scale. At the same time, we should also explore developing an in-house solution by investing in training and development for our team. This could serve as a backup plan if the partnership with the startup doesn't yield the expected results. \n",
            "\n",
            "Ultimately, the decision also needs to take into account the potential return on investment and the strategic fit of either approach with our overall business goals and objectives. Therefore, further financial and strategic analysis would be beneficial to make the most informed decision.\n",
            "\u001b[00m\n",
            "\u001b[32;1m\u001b[1;3mThought: \n",
            "I have received the opinion of the Chief Architect. Now, I need to gather the opinion of Procurement on the same question.\n",
            "\n",
            "Action: \n",
            "Ask question to co-worker\n",
            "\n",
            "Action Input: \n",
            "{\n",
            "\"coworker\": \"Procurement\",\n",
            "\"question\": \"What is your opinion on whether we should invest in the development of an in-house AI system for our customer service operations, or should we partner with an AI start-up? Please consider the risks such as their unproven technology at scale and uncertain financial stability.\",\n",
            "\"context\": \"We have identified a promising AI start-up that specializes in customer service solutions. They have a unique approach using advanced natural language processing techniques and have shown impressive results in their case studies. However, they are relatively new in the market and have not yet fully proven their technology at scale. Also, their financial stability is uncertain due to limited funding and revenue.\"\n",
            "}\n",
            "\u001b[0m\n",
            "\n",
            "\u001b[1m> Entering new CrewAgentExecutor chain...\u001b[0m\n",
            "\u001b[32;1m\u001b[1;3mIn considering whether we should invest in developing an in-house AI system for customer service operations or partner with a promising AI start-up, several factors come to mind. Firstly, we need to assess our company's capabilities in developing an in-house AI system. This includes our technical expertise, resources, and the time it will take to develop, test, and implement the system. Secondly, we need to weigh the potential benefits and risks of partnering with the AI start-up. While their advanced natural language processing techniques and impressive case studies are promising, their technology is unproven at scale and their financial stability is uncertain.\n",
            "\n",
            "Final Answer: \n",
            "My best complete final answer to the task is that we conduct a comprehensive feasibility study to assess our capability for in-house development of the AI system. This should include a cost-benefit analysis, timeline estimation, and risk assessment. We should also conduct thorough due diligence on the AI start-up, focusing on their technology's scalability, their financial stability, and their potential as a long-term partner. It may be beneficial to also consider other potential partners or vendors to ensure we have thoroughly evaluated all options. \n",
            "\n",
            "In the end, our decision should be based on what will provide the most value for our business in terms of cost-effectiveness, efficiency, and long-term sustainability. If the start-up's AI solution is significantly superior and they are deemed a reliable partner, it may be worth the risk. However, if our in-house capabilities prove sufficient and more reliable, this may be the safer and more cost-effective option.\u001b[0m\n",
            "\n",
            "\u001b[1m> Finished chain.\u001b[0m\n",
            "\u001b[93m \n",
            "\n",
            "My best complete final answer to the task is that we conduct a comprehensive feasibility study to assess our capability for in-house development of the AI system. This should include a cost-benefit analysis, timeline estimation, and risk assessment. We should also conduct thorough due diligence on the AI start-up, focusing on their technology's scalability, their financial stability, and their potential as a long-term partner. It may be beneficial to also consider other potential partners or vendors to ensure we have thoroughly evaluated all options. \n",
            "\n",
            "In the end, our decision should be based on what will provide the most value for our business in terms of cost-effectiveness, efficiency, and long-term sustainability. If the start-up's AI solution is significantly superior and they are deemed a reliable partner, it may be worth the risk. However, if our in-house capabilities prove sufficient and more reliable, this may be the safer and more cost-effective option.\n",
            "\u001b[00m\n",
            "\u001b[32;1m\u001b[1;3mThought: \n",
            "Now that I have all the opinions, I can summarize and present them as the final answer.\n",
            "\n",
            "Final Answer: \n",
            "Here are the opinions of the CIO, Chief Architect, and Procurement:\n",
            "\n",
            "1. CIO: We should not put all our eggs in one basket. Let's start a limited partnership with the AI start-up to test their technology in a controlled environment within our operations. This will allow us to evaluate their claims without fully committing to their solution. Concurrently, we should also invest in developing our own in-house AI capabilities. This serves as our Plan B and also helps us to gain insights for future decisions.\n",
            "\n",
            "2. Chief Architect: While the AI startup has shown promising results, their unproven technology at scale and uncertain financial stability present significant risks. We could consider a pilot project with the AI start-up to test their technology in our environment on a small scale before making any major commitments. This would allow us to assess the compatibility of their solution with our existing technology, and their ability to deliver at scale. At the same time, we should also explore developing an in-house solution by investing in training and development for our team. This could serve as a backup plan if the partnership with the startup doesn't yield the expected results. Ultimately, the decision also needs to take into account the potential return on investment and the strategic fit of either approach with our overall business goals and objectives. Therefore, further financial and strategic analysis would be beneficial to make the most informed decision.\n",
            "\n",
            "3. Procurement: We should conduct a comprehensive feasibility study to assess our capability for in-house development of the AI system. This should include a cost-benefit analysis, timeline estimation, and risk assessment. We should also conduct thorough due diligence on the AI start-up, focusing on their technology's scalability, their financial stability, and their potential as a long-term partner. It may be beneficial to also consider other potential partners or vendors to ensure we have thoroughly evaluated all options. In the end, our decision should be based on what will provide the most value for our business in terms of cost-effectiveness, efficiency, and long-term sustainability. If the start-up's AI solution is significantly superior and they are deemed a reliable partner, it may be worth the risk. However, if our in-house capabilities prove sufficient and more reliable, this may be the safer and more cost-effective option.\u001b[0m\n",
            "\n",
            "\u001b[1m> Finished chain.\u001b[0m\n",
            "\u001b[1m\u001b[92m [DEBUG]: == [Co-ordinator] Task output: Here are the opinions of the CIO, Chief Architect, and Procurement:\n",
            "\n",
            "1. CIO: We should not put all our eggs in one basket. Let's start a limited partnership with the AI start-up to test their technology in a controlled environment within our operations. This will allow us to evaluate their claims without fully committing to their solution. Concurrently, we should also invest in developing our own in-house AI capabilities. This serves as our Plan B and also helps us to gain insights for future decisions.\n",
            "\n",
            "2. Chief Architect: While the AI startup has shown promising results, their unproven technology at scale and uncertain financial stability present significant risks. We could consider a pilot project with the AI start-up to test their technology in our environment on a small scale before making any major commitments. This would allow us to assess the compatibility of their solution with our existing technology, and their ability to deliver at scale. At the same time, we should also explore developing an in-house solution by investing in training and development for our team. This could serve as a backup plan if the partnership with the startup doesn't yield the expected results. Ultimately, the decision also needs to take into account the potential return on investment and the strategic fit of either approach with our overall business goals and objectives. Therefore, further financial and strategic analysis would be beneficial to make the most informed decision.\n",
            "\n",
            "3. Procurement: We should conduct a comprehensive feasibility study to assess our capability for in-house development of the AI system. This should include a cost-benefit analysis, timeline estimation, and risk assessment. We should also conduct thorough due diligence on the AI start-up, focusing on their technology's scalability, their financial stability, and their potential as a long-term partner. It may be beneficial to also consider other potential partners or vendors to ensure we have thoroughly evaluated all options. In the end, our decision should be based on what will provide the most value for our business in terms of cost-effectiveness, efficiency, and long-term sustainability. If the start-up's AI solution is significantly superior and they are deemed a reliable partner, it may be worth the risk. However, if our in-house capabilities prove sufficient and more reliable, this may be the safer and more cost-effective option.\n",
            "\n",
            "\u001b[00m\n"
          ]
        },
        {
          "ename": "AttributeError",
          "evalue": "'NoneType' object has no attribute 'allow_delegation'",
          "output_type": "error",
          "traceback": [
            "\u001b[0;31m---------------------------------------------------------------------------\u001b[0m",
            "\u001b[0;31mAttributeError\u001b[0m                            Traceback (most recent call last)",
            "Cell \u001b[0;32mIn[7], line 1\u001b[0m\n\u001b[0;32m----> 1\u001b[0m result\u001b[38;5;241m=\u001b[39m\u001b[43mcrew\u001b[49m\u001b[38;5;241;43m.\u001b[39;49m\u001b[43mkickoff\u001b[49m\u001b[43m(\u001b[49m\u001b[43m)\u001b[49m\n",
            "File \u001b[0;32m~/opt/anaconda3/envs/deeplearning/lib/python3.12/site-packages/crewai/crew.py:204\u001b[0m, in \u001b[0;36mCrew.kickoff\u001b[0;34m(self, inputs)\u001b[0m\n\u001b[1;32m    201\u001b[0m metrics \u001b[38;5;241m=\u001b[39m []\n\u001b[1;32m    203\u001b[0m \u001b[38;5;28;01mif\u001b[39;00m \u001b[38;5;28mself\u001b[39m\u001b[38;5;241m.\u001b[39mprocess \u001b[38;5;241m==\u001b[39m Process\u001b[38;5;241m.\u001b[39msequential:\n\u001b[0;32m--> 204\u001b[0m     result \u001b[38;5;241m=\u001b[39m \u001b[38;5;28;43mself\u001b[39;49m\u001b[38;5;241;43m.\u001b[39;49m\u001b[43m_run_sequential_process\u001b[49m\u001b[43m(\u001b[49m\u001b[43m)\u001b[49m\n\u001b[1;32m    205\u001b[0m \u001b[38;5;28;01melif\u001b[39;00m \u001b[38;5;28mself\u001b[39m\u001b[38;5;241m.\u001b[39mprocess \u001b[38;5;241m==\u001b[39m Process\u001b[38;5;241m.\u001b[39mhierarchical:\n\u001b[1;32m    206\u001b[0m     result, manager_metrics \u001b[38;5;241m=\u001b[39m \u001b[38;5;28mself\u001b[39m\u001b[38;5;241m.\u001b[39m_run_hierarchical_process()\n",
            "File \u001b[0;32m~/opt/anaconda3/envs/deeplearning/lib/python3.12/site-packages/crewai/crew.py:227\u001b[0m, in \u001b[0;36mCrew._run_sequential_process\u001b[0;34m(self)\u001b[0m\n\u001b[1;32m    225\u001b[0m task_output \u001b[38;5;241m=\u001b[39m \u001b[38;5;124m\"\u001b[39m\u001b[38;5;124m\"\u001b[39m\n\u001b[1;32m    226\u001b[0m \u001b[38;5;28;01mfor\u001b[39;00m task \u001b[38;5;129;01min\u001b[39;00m \u001b[38;5;28mself\u001b[39m\u001b[38;5;241m.\u001b[39mtasks:\n\u001b[0;32m--> 227\u001b[0m     \u001b[38;5;28;01mif\u001b[39;00m \u001b[43mtask\u001b[49m\u001b[38;5;241;43m.\u001b[39;49m\u001b[43magent\u001b[49m\u001b[38;5;241;43m.\u001b[39;49m\u001b[43mallow_delegation\u001b[49m:\n\u001b[1;32m    228\u001b[0m         agents_for_delegation \u001b[38;5;241m=\u001b[39m [\n\u001b[1;32m    229\u001b[0m             agent \u001b[38;5;28;01mfor\u001b[39;00m agent \u001b[38;5;129;01min\u001b[39;00m \u001b[38;5;28mself\u001b[39m\u001b[38;5;241m.\u001b[39magents \u001b[38;5;28;01mif\u001b[39;00m agent \u001b[38;5;241m!=\u001b[39m task\u001b[38;5;241m.\u001b[39magent\n\u001b[1;32m    230\u001b[0m         ]\n\u001b[1;32m    231\u001b[0m         \u001b[38;5;28;01mif\u001b[39;00m \u001b[38;5;28mlen\u001b[39m(\u001b[38;5;28mself\u001b[39m\u001b[38;5;241m.\u001b[39magents) \u001b[38;5;241m>\u001b[39m \u001b[38;5;241m1\u001b[39m \u001b[38;5;129;01mand\u001b[39;00m \u001b[38;5;28mlen\u001b[39m(agents_for_delegation) \u001b[38;5;241m>\u001b[39m \u001b[38;5;241m0\u001b[39m:\n",
            "\u001b[0;31mAttributeError\u001b[0m: 'NoneType' object has no attribute 'allow_delegation'"
          ]
        }
      ],
      "source": [
        "result=crew.kickoff()"
      ]
    },
    {
      "cell_type": "code",
      "execution_count": null,
      "metadata": {
        "id": "v1s9uonRguLB"
      },
      "outputs": [],
      "source": []
    }
  ],
  "metadata": {
    "colab": {
      "provenance": []
    },
    "kernelspec": {
      "display_name": "Python 3",
      "name": "python3"
    },
    "language_info": {
      "codemirror_mode": {
        "name": "ipython",
        "version": 3
      },
      "file_extension": ".py",
      "mimetype": "text/x-python",
      "name": "python",
      "nbconvert_exporter": "python",
      "pygments_lexer": "ipython3",
      "version": "3.12.2"
    }
  },
  "nbformat": 4,
  "nbformat_minor": 0
}
